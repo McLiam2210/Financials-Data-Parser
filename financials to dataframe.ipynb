{
 "cells": [
  {
   "cell_type": "code",
   "execution_count": 2,
   "id": "210bb2ae",
   "metadata": {},
   "outputs": [],
   "source": [
    "import pandas as pd\n"
   ]
  },
  {
   "cell_type": "code",
   "execution_count": 174,
   "id": "2f5362a7",
   "metadata": {},
   "outputs": [],
   "source": [
    "# Load the JSON file\n",
    "df = pd.read_json(\"CIK0000320193.json\")\n",
    "# df = pd.read_json(\"CIK0000927628.json\")\n",
    "# df = pd.read_json(\"CIK0001415603.json\")"
   ]
  },
  {
   "cell_type": "code",
   "execution_count": 175,
   "id": "f5bff253",
   "metadata": {},
   "outputs": [],
   "source": [
    "yearLimit = 2023"
   ]
  },
  {
   "cell_type": "code",
   "execution_count": 176,
   "id": "3880e7c9",
   "metadata": {},
   "outputs": [
    {
     "data": {
      "text/html": [
       "<div>\n",
       "<style scoped>\n",
       "    .dataframe tbody tr th:only-of-type {\n",
       "        vertical-align: middle;\n",
       "    }\n",
       "\n",
       "    .dataframe tbody tr th {\n",
       "        vertical-align: top;\n",
       "    }\n",
       "\n",
       "    .dataframe thead th {\n",
       "        text-align: right;\n",
       "    }\n",
       "</style>\n",
       "<table border=\"1\" class=\"dataframe\">\n",
       "  <thead>\n",
       "    <tr style=\"text-align: right;\">\n",
       "      <th></th>\n",
       "      <th>cik</th>\n",
       "      <th>entityName</th>\n",
       "      <th>facts</th>\n",
       "    </tr>\n",
       "  </thead>\n",
       "  <tbody>\n",
       "    <tr>\n",
       "      <th>dei</th>\n",
       "      <td>320193</td>\n",
       "      <td>Apple Inc.</td>\n",
       "      <td>{'EntityCommonStockSharesOutstanding': {'label...</td>\n",
       "    </tr>\n",
       "    <tr>\n",
       "      <th>us-gaap</th>\n",
       "      <td>320193</td>\n",
       "      <td>Apple Inc.</td>\n",
       "      <td>{'AccountsPayable': {'label': 'Accounts Payabl...</td>\n",
       "    </tr>\n",
       "  </tbody>\n",
       "</table>\n",
       "</div>"
      ],
      "text/plain": [
       "            cik  entityName                                              facts\n",
       "dei      320193  Apple Inc.  {'EntityCommonStockSharesOutstanding': {'label...\n",
       "us-gaap  320193  Apple Inc.  {'AccountsPayable': {'label': 'Accounts Payabl..."
      ]
     },
     "execution_count": 176,
     "metadata": {},
     "output_type": "execute_result"
    }
   ],
   "source": [
    "# Print the DataFrame\n",
    "df.head()"
   ]
  },
  {
   "cell_type": "code",
   "execution_count": null,
   "id": "ff14d0e1",
   "metadata": {},
   "outputs": [],
   "source": []
  },
  {
   "cell_type": "markdown",
   "id": "ba99eeb4",
   "metadata": {},
   "source": [
    "The JSON files come in two main partitions (need to find out exactly what they mean)\n",
    "\n",
    "- DEI\n",
    "\n",
    "- US-GAAP\n",
    "\n",
    "General Structure of the JSON file:\n",
    "\n",
    "- [Partition]\n",
    "    - Heading Name\n",
    "        - Label (more verbose heading)\n",
    "        - Description\n",
    "        - Units\n",
    "            - Unit of Measurement\n",
    "                - ...\n",
    "                - Val\n",
    "                - Form\n",
    "                - Filed (date)\n",
    "                - ...\n",
    "    "
   ]
  },
  {
   "cell_type": "markdown",
   "id": "8c54fa8d",
   "metadata": {},
   "source": [
    "## Read Partition"
   ]
  },
  {
   "cell_type": "code",
   "execution_count": 177,
   "id": "4740a588",
   "metadata": {},
   "outputs": [
    {
     "name": "stdout",
     "output_type": "stream",
     "text": [
      "CIK: 320193\n",
      "Company: Apple Inc.\n"
     ]
    }
   ],
   "source": [
    "# Pull out the company's name and CIK\n",
    "entityName = df.iloc[0,1]\n",
    "entityCIK = str(df.iloc[0,0])\n",
    "print('CIK: ' + entityCIK)\n",
    "print('Company: ' + entityName)\n",
    "\n",
    "for i in range(len(df)):\n",
    "    partitionName = df.index[i]\n",
    "    partitionName = partitionName.upper()\n",
    "    partition = df.iloc[i,2]\n",
    "    subGroups = partition.items()\n",
    "\n",
    "    # Initialise a dataframe to hold the data\n",
    "    columnNames = ['company', 'CIK', 'heading', 'units', 'value', 'fy', 'qtr', 'frame']\n",
    "    masterDf = pd.DataFrame(columns=columnNames)\n",
    "\n",
    "    # DEI is broken down into subgroups\n",
    "    for group in subGroups:\n",
    "        # Each subgroup has a heading, detailed description, and unit of measurement\n",
    "        row = {}\n",
    "        heading = group[0]\n",
    "        row['company'] = entityName\n",
    "        row['CIK'] = entityCIK\n",
    "        row['heading'] = heading\n",
    "        desc = group[1]['description']\n",
    "\n",
    "        # The units component contains the actual measurement and the associated metadata (in the 'records' list)\n",
    "        units = group[1]['units']\n",
    "        for unit, records in units.items():\n",
    "            row['units'] = unit\n",
    "\n",
    "            # Filter out rows where the latest year of data is less than 2024\n",
    "            maxYear = 0\n",
    "            for record in records:\n",
    "                if int(record['fy']) > maxYear:\n",
    "                    maxYear = int(record['fy'])\n",
    "\n",
    "            if maxYear < yearLimit:\n",
    "                continue\n",
    "\n",
    "            # We have a record for every filing date\n",
    "            for record in records:\n",
    "                if record['form'] == '10-Q' and 'frame' in record.keys():\n",
    "                    row['fy'] = record['fy']\n",
    "                    row['qtr'] = record['fp']\n",
    "                    row['value'] = round(float(record['val']), 2)\n",
    "                    row['frame'] = record['frame']\n",
    "\n",
    "                    # Append the row to the main dataframe\n",
    "                    nextIdx = len(masterDf)\n",
    "                    masterDf.loc[nextIdx] = row\n",
    "\n",
    "    masterDf = masterDf.sort_values(by = ['heading', 'frame'])\n",
    "    masterDf.to_csv(f'fin tables/{entityName} {partitionName}.csv', index=False)\n",
    "    \n",
    "    "
   ]
  },
  {
   "cell_type": "code",
   "execution_count": 160,
   "id": "757d30ef",
   "metadata": {},
   "outputs": [
    {
     "data": {
      "text/plain": [
       "'dei'"
      ]
     },
     "execution_count": 160,
     "metadata": {},
     "output_type": "execute_result"
    }
   ],
   "source": [
    "df.index[0]"
   ]
  },
  {
   "cell_type": "code",
   "execution_count": 155,
   "id": "dae50010",
   "metadata": {},
   "outputs": [],
   "source": [
    "\"\"\"masterDf = masterDf.sort_values(by = ['headingFull', 'frame'])\n",
    "masterDf.to_csv('Apple Financials.csv', index=False)\"\"\""
   ]
  },
  {
   "cell_type": "code",
   "execution_count": 146,
   "id": "e4e92b93",
   "metadata": {},
   "outputs": [],
   "source": [
    "\"\"\"masterDf = masterDf.sort_values(by = ['headingFull', 'frame'])\n",
    "masterDf.to_csv('Capital One Financials.csv', index=False)\"\"\""
   ]
  },
  {
   "cell_type": "code",
   "execution_count": null,
   "id": "6f25adfd",
   "metadata": {},
   "outputs": [],
   "source": []
  }
 ],
 "metadata": {
  "kernelspec": {
   "display_name": "Python 3 (ipykernel)",
   "language": "python",
   "name": "python3"
  },
  "language_info": {
   "codemirror_mode": {
    "name": "ipython",
    "version": 3
   },
   "file_extension": ".py",
   "mimetype": "text/x-python",
   "name": "python",
   "nbconvert_exporter": "python",
   "pygments_lexer": "ipython3",
   "version": "3.10.10"
  }
 },
 "nbformat": 4,
 "nbformat_minor": 5
}
