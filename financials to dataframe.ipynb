{
 "cells": [
  {
   "cell_type": "code",
   "execution_count": 2,
   "id": "210bb2ae",
   "metadata": {},
   "outputs": [],
   "source": [
    "import pandas as pd\n",
    "import os\n",
    "import yfinance as yf"
   ]
  },
  {
   "cell_type": "markdown",
   "id": "6a5d4bb4",
   "metadata": {},
   "source": [
    "The JSON files come in two main partitions (need to find out exactly what they mean)\n",
    "\n",
    "- DEI\n",
    "\n",
    "- US-GAAP\n",
    "\n",
    "General Structure of the JSON file:\n",
    "\n",
    "- [Partition]\n",
    "    - Heading Name\n",
    "        - Label (more verbose heading)\n",
    "        - Description\n",
    "        - Units\n",
    "            - Unit of Measurement\n",
    "                - ...\n",
    "                - Val\n",
    "                - Form\n",
    "                - Filed (date)\n",
    "                - ...\n",
    "    "
   ]
  },
  {
   "cell_type": "code",
   "execution_count": 33,
   "id": "3282fa51",
   "metadata": {},
   "outputs": [],
   "source": [
    "minYear = 2023\n",
    "\n",
    "columnNames = ['CIK', 'heading', 'units', 'value', 'frame']\n",
    "# other columns if needed: fy, qtr"
   ]
  },
  {
   "cell_type": "markdown",
   "id": "8c54fa8d",
   "metadata": {},
   "source": [
    "## Read Company Financials JSON file\n",
    "\n",
    "This function takes in a DataFrame (which should just be what is returned by called pd.read_json() on a company's JSON file) and returns another DataFrame with the JSON data transformed into a tabular format"
   ]
  },
  {
   "cell_type": "code",
   "execution_count": 98,
   "id": "4740a588",
   "metadata": {},
   "outputs": [],
   "source": [
    "\n",
    "def read_company_financials_json(df: pd.DataFrame):\n",
    "    # Pull out the company's name and CIK\n",
    "    entityName = df.iloc[0,1]\n",
    "    entityCIK = str(df.iloc[0,0])\n",
    "    \n",
    "    # Initialise a dataframe to hold the data\n",
    "    companyDF = pd.DataFrame(columns=columnNames)\n",
    "    quarters = {'03': 'Q1', '06': 'Q2', '09': 'Q3', '12': 'Q4'}\n",
    "\n",
    "    for i in range(len(df)):\n",
    "        partitionName = df.index[i]\n",
    "        partitionName = partitionName.upper()\n",
    "        partition = df.iloc[i,2]\n",
    "        subGroups = partition.items()\n",
    "\n",
    "        intermediateDF = pd.DataFrame(columns=columnNames)\n",
    "\n",
    "        if partitionName == 'US-GAAP':\n",
    "            # Each of DEI, invest, US-GAAP is broken down into subgroups\n",
    "            for group in subGroups:\n",
    "                # Each subgroup has a heading, detailed description, and unit of measurement\n",
    "                row = {}\n",
    "                heading = group[0]\n",
    "                # row['company'] = entityName\n",
    "                row['CIK'] = entityCIK\n",
    "                row['heading'] = heading\n",
    "                desc = group[1]['description']\n",
    "\n",
    "                # The units component contains the actual measurement and the associated metadata (in the 'records' list)\n",
    "                units = group[1]['units']\n",
    "                for unit, records in units.items():\n",
    "                    row['units'] = unit\n",
    "\n",
    "                    # We have a record for every filing date\n",
    "                    for record in records:\n",
    "                        periodEndYear, periodEndMonth, _ = record['end'].split('-')\n",
    "                        periodStartYear, periodStartMonth = (0, 0)\n",
    "                        try:\n",
    "                            periodStartYear, periodStartMonth, _ = record['start'].split('-')\n",
    "                        except KeyError: \n",
    "                            pass\n",
    "                        \n",
    "                        if record['form'] == '10-Q' and int(periodEndYear) >= 2018: \n",
    "                            if 'frame' in record.keys():\n",
    "                                row['value'] = round(float(record['val']), 2)\n",
    "                                row['frame'] = record['frame']\n",
    "\n",
    "                                # Append the row to the main dataframe\n",
    "                                nextIdx = len(intermediateDF)\n",
    "                                intermediateDF.loc[nextIdx] = row\n",
    "                            elif (periodEndMonth in quarters.keys() and \n",
    "                                  ((int(periodEndMonth) - int(periodStartMonth)) == 3) and\n",
    "                                  (int(periodEndYear) == periodStartYear)):\n",
    "                                row['value'] = round(float(record['val']), 2)\n",
    "                                row['frame'] = \"CY\" + periodEndYear + quarters[periodEndMonth]\n",
    "\n",
    "                                # Append the row to the main dataframe\n",
    "                                nextIdx = len(intermediateDF)\n",
    "                                intermediateDF.loc[nextIdx] = row                                \n",
    "                            \n",
    "        companyDF = pd.concat([companyDF, intermediateDF], ignore_index=True)\n",
    "                        \n",
    "    return companyDF\n"
   ]
  },
  {
   "cell_type": "markdown",
   "id": "338ae5f1",
   "metadata": {},
   "source": [
    "## Read through each company's JSON file and append to masterDF"
   ]
  },
  {
   "cell_type": "code",
   "execution_count": 100,
   "id": "166d5b4d",
   "metadata": {},
   "outputs": [],
   "source": [
    "#folderPath = '.'\n",
    "folderPath = 'companyfacts/Biggest Files'\n",
    "\n",
    "masterDF = pd.DataFrame(columns=columnNames)\n",
    "dimCompany = pd.DataFrame(columns=['company', 'CIK'])\n",
    "\n",
    "counter = 0\n",
    "for filename in os.listdir(folderPath):\n",
    "    counter += 1\n",
    "    if filename.endswith('.json') and counter < 1000:\n",
    "        filePath = os.path.join(folderPath, filename)\n",
    "        df = pd.read_json(filePath)\n",
    "        \n",
    "        entityName = df.iloc[0,1]\n",
    "        entityCIK = str(df.iloc[0,0])\n",
    "        companyIdx = len(dimCompany)\n",
    "        dimCompany.loc[companyIdx] = {'company': entityName, 'CIK': entityCIK}\n",
    "        \n",
    "        companyDF = read_company_financials_json(df)\n",
    "        \n",
    "        masterDF = pd.concat([masterDF, companyDF], ignore_index=True)\n",
    "        \n",
    "        \n",
    "masterDF\n",
    "masterDF.to_csv('testDF.csv', index=False)\n",
    "#dimCompany.to_csv('dimCompany.csv', index=False)"
   ]
  },
  {
   "cell_type": "code",
   "execution_count": null,
   "id": "cf783c2a",
   "metadata": {},
   "outputs": [],
   "source": []
  }
 ],
 "metadata": {
  "kernelspec": {
   "display_name": "Python 3 (ipykernel)",
   "language": "python",
   "name": "python3"
  },
  "language_info": {
   "codemirror_mode": {
    "name": "ipython",
    "version": 3
   },
   "file_extension": ".py",
   "mimetype": "text/x-python",
   "name": "python",
   "nbconvert_exporter": "python",
   "pygments_lexer": "ipython3",
   "version": "3.10.10"
  }
 },
 "nbformat": 4,
 "nbformat_minor": 5
}
