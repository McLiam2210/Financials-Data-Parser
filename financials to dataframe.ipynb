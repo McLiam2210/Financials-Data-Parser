{
 "cells": [
  {
   "cell_type": "code",
   "execution_count": 2,
   "id": "210bb2ae",
   "metadata": {},
   "outputs": [],
   "source": [
    "import pandas as pd\n"
   ]
  },
  {
   "cell_type": "code",
   "execution_count": 55,
   "id": "2f5362a7",
   "metadata": {},
   "outputs": [],
   "source": [
    "# Load the JSON file\n",
    "df = pd.read_json(\"CIK0001415603.json\")"
   ]
  },
  {
   "cell_type": "code",
   "execution_count": 56,
   "id": "3880e7c9",
   "metadata": {},
   "outputs": [
    {
     "data": {
      "text/html": [
       "<div>\n",
       "<style scoped>\n",
       "    .dataframe tbody tr th:only-of-type {\n",
       "        vertical-align: middle;\n",
       "    }\n",
       "\n",
       "    .dataframe tbody tr th {\n",
       "        vertical-align: top;\n",
       "    }\n",
       "\n",
       "    .dataframe thead th {\n",
       "        text-align: right;\n",
       "    }\n",
       "</style>\n",
       "<table border=\"1\" class=\"dataframe\">\n",
       "  <thead>\n",
       "    <tr style=\"text-align: right;\">\n",
       "      <th></th>\n",
       "      <th>cik</th>\n",
       "      <th>entityName</th>\n",
       "      <th>facts</th>\n",
       "    </tr>\n",
       "  </thead>\n",
       "  <tbody>\n",
       "    <tr>\n",
       "      <th>dei</th>\n",
       "      <td>1415603</td>\n",
       "      <td>NUGEN HOLDINGS, INC.</td>\n",
       "      <td>{'EntityCommonStockSharesOutstanding': {'label...</td>\n",
       "    </tr>\n",
       "    <tr>\n",
       "      <th>us-gaap</th>\n",
       "      <td>1415603</td>\n",
       "      <td>NUGEN HOLDINGS, INC.</td>\n",
       "      <td>{'AccountsPayableAndAccruedLiabilitiesCurrent'...</td>\n",
       "    </tr>\n",
       "  </tbody>\n",
       "</table>\n",
       "</div>"
      ],
      "text/plain": [
       "             cik            entityName   \n",
       "dei      1415603  NUGEN HOLDINGS, INC.  \\\n",
       "us-gaap  1415603  NUGEN HOLDINGS, INC.   \n",
       "\n",
       "                                                     facts  \n",
       "dei      {'EntityCommonStockSharesOutstanding': {'label...  \n",
       "us-gaap  {'AccountsPayableAndAccruedLiabilitiesCurrent'...  "
      ]
     },
     "execution_count": 56,
     "metadata": {},
     "output_type": "execute_result"
    }
   ],
   "source": [
    "# Print the DataFrame\n",
    "df.head()"
   ]
  },
  {
   "cell_type": "code",
   "execution_count": 84,
   "id": "ff14d0e1",
   "metadata": {},
   "outputs": [
    {
     "name": "stdout",
     "output_type": "stream",
     "text": [
      "CIK: 1415603\n",
      "Company: NUGEN HOLDINGS, INC.\n"
     ]
    }
   ],
   "source": [
    "# Pull out the company's name and CIK\n",
    "\n",
    "entityName = df.iloc[0,1]\n",
    "entityCIK = str(df.iloc[0,0])\n",
    "print('CIK: ' + entityCIK)\n",
    "print('Company: ' + entityName)"
   ]
  },
  {
   "cell_type": "markdown",
   "id": "1e81cbe8",
   "metadata": {},
   "source": [
    "The JSON files come in two main partitions (need to find out exactly what they mean)\n",
    "\n",
    "- DEI\n",
    "\n",
    "- US-GAAP\n",
    "\n",
    "General Structure of the JSON file:\n",
    "\n",
    "- [Partition]\n",
    "    - Heading Name\n",
    "        - Label (more verbose heading)\n",
    "        - Description\n",
    "        - Units\n",
    "            - Unit of Measurement\n",
    "                - ...\n",
    "                - Val\n",
    "                - Form\n",
    "                - Filed (date)\n",
    "                - ...\n",
    "    "
   ]
  },
  {
   "cell_type": "markdown",
   "id": "8c54fa8d",
   "metadata": {},
   "source": [
    "## DEI Partition"
   ]
  },
  {
   "cell_type": "code",
   "execution_count": 89,
   "id": "4740a588",
   "metadata": {},
   "outputs": [
    {
     "name": "stdout",
     "output_type": "stream",
     "text": [
      "EntityCommonStockSharesOutstanding\n",
      "EntityPublicFloat\n"
     ]
    },
    {
     "data": {
      "text/html": [
       "<div>\n",
       "<style scoped>\n",
       "    .dataframe tbody tr th:only-of-type {\n",
       "        vertical-align: middle;\n",
       "    }\n",
       "\n",
       "    .dataframe tbody tr th {\n",
       "        vertical-align: top;\n",
       "    }\n",
       "\n",
       "    .dataframe thead th {\n",
       "        text-align: right;\n",
       "    }\n",
       "</style>\n",
       "<table border=\"1\" class=\"dataframe\">\n",
       "  <thead>\n",
       "    <tr style=\"text-align: right;\">\n",
       "      <th></th>\n",
       "      <th>company</th>\n",
       "      <th>CIK</th>\n",
       "      <th>headingFull</th>\n",
       "      <th>units</th>\n",
       "      <th>filedDate</th>\n",
       "      <th>value</th>\n",
       "    </tr>\n",
       "  </thead>\n",
       "  <tbody>\n",
       "    <tr>\n",
       "      <th>0</th>\n",
       "      <td>NUGEN HOLDINGS, INC.</td>\n",
       "      <td>1415603</td>\n",
       "      <td>Entity Common Stock, Shares Outstanding</td>\n",
       "      <td>shares</td>\n",
       "      <td>2011-08-19</td>\n",
       "      <td>56966564</td>\n",
       "    </tr>\n",
       "    <tr>\n",
       "      <th>1</th>\n",
       "      <td>NUGEN HOLDINGS, INC.</td>\n",
       "      <td>1415603</td>\n",
       "      <td>Entity Common Stock, Shares Outstanding</td>\n",
       "      <td>shares</td>\n",
       "      <td>2012-02-16</td>\n",
       "      <td>57081702</td>\n",
       "    </tr>\n",
       "    <tr>\n",
       "      <th>2</th>\n",
       "      <td>NUGEN HOLDINGS, INC.</td>\n",
       "      <td>1415603</td>\n",
       "      <td>Entity Common Stock, Shares Outstanding</td>\n",
       "      <td>shares</td>\n",
       "      <td>2012-05-14</td>\n",
       "      <td>57081702</td>\n",
       "    </tr>\n",
       "  </tbody>\n",
       "</table>\n",
       "</div>"
      ],
      "text/plain": [
       "                company      CIK                              headingFull   \n",
       "0  NUGEN HOLDINGS, INC.  1415603  Entity Common Stock, Shares Outstanding  \\\n",
       "1  NUGEN HOLDINGS, INC.  1415603  Entity Common Stock, Shares Outstanding   \n",
       "2  NUGEN HOLDINGS, INC.  1415603  Entity Common Stock, Shares Outstanding   \n",
       "\n",
       "    units   filedDate     value  \n",
       "0  shares  2011-08-19  56966564  \n",
       "1  shares  2012-02-16  57081702  \n",
       "2  shares  2012-05-14  57081702  "
      ]
     },
     "execution_count": 89,
     "metadata": {},
     "output_type": "execute_result"
    }
   ],
   "source": [
    "partition = 'DEI'\n",
    "dei = df.iloc[0,2]\n",
    "subGroups = dei.items()\n",
    "\n",
    "# Initialise a dataframe to hold the data\n",
    "columnNames = ['company', 'CIK', 'headingFull', 'units', 'filedDate', 'value']\n",
    "masterDf = pd.DataFrame(columns=columnNames)\n",
    "\n",
    "# DEI is broken down into subgroups\n",
    "for group in subGroups:\n",
    "    # Each subgroup has a heading, detailed description, and unit of measurement\n",
    "    row = {}\n",
    "    heading = group[0]\n",
    "    row['company'] = entityName\n",
    "    row['CIK'] = entityCIK\n",
    "    row['headingFull'] = group[1]['label']\n",
    "    desc = group[1]['description']\n",
    "    \n",
    "    # The units component contains the actual measurement and the associated metadata (in the 'records' list)\n",
    "    units = group[1]['units']\n",
    "    for unit, records in units.items():\n",
    "        print(heading)\n",
    "        row['units'] = unit\n",
    "        # We have a record for every filing date\n",
    "        for record in records:\n",
    "            if record['form'] == '10-Q':\n",
    "                row['filedDate'] = record['filed']\n",
    "                row['value'] = record['val']\n",
    "                \n",
    "                # Append the row to the main dataframe\n",
    "                nextIdx = len(masterDf)\n",
    "                masterDf.loc[nextIdx] = row\n",
    "\n",
    "masterDf.head()"
   ]
  },
  {
   "cell_type": "code",
   "execution_count": null,
   "id": "0b631522",
   "metadata": {},
   "outputs": [],
   "source": []
  },
  {
   "cell_type": "markdown",
   "id": "602b0e70",
   "metadata": {},
   "source": [
    "## US-GAAP Partition"
   ]
  },
  {
   "cell_type": "code",
   "execution_count": 23,
   "id": "4b8d46e1",
   "metadata": {},
   "outputs": [
    {
     "name": "stdout",
     "output_type": "stream",
     "text": [
      "{'end': '2011-12-31', 'val': 3500, 'accn': '0001144204-12-009609', 'fy': 2012, 'fp': 'Q1', 'form': '10-Q', 'filed': '2012-02-16', 'frame': 'CY2011Q4I'}\n",
      "{'end': '2012-03-31', 'val': 3500, 'accn': '0001144204-12-028547', 'fy': 2012, 'fp': 'Q2', 'form': '10-Q', 'filed': '2012-05-14', 'frame': 'CY2012Q1I'}\n"
     ]
    }
   ],
   "source": [
    "partition = 'US-GAAP'\n",
    "usGaap = df.iloc[1,2]\n",
    "subGroups = usGaap.items()\n",
    "\n",
    "for group in subGroups:\n",
    "    heading = group[0]\n",
    "    headingFull = group[1]['label']\n",
    "    desc = group[1]['description']\n",
    "    units = group[1]['units']\n",
    "    if 'USD' in units.keys():\n",
    "        pass\n",
    "\n",
    "for unit in units['USD']:\n",
    "    print(unit)\n"
   ]
  },
  {
   "cell_type": "code",
   "execution_count": null,
   "id": "dae50010",
   "metadata": {},
   "outputs": [],
   "source": []
  }
 ],
 "metadata": {
  "kernelspec": {
   "display_name": "Python 3 (ipykernel)",
   "language": "python",
   "name": "python3"
  },
  "language_info": {
   "codemirror_mode": {
    "name": "ipython",
    "version": 3
   },
   "file_extension": ".py",
   "mimetype": "text/x-python",
   "name": "python",
   "nbconvert_exporter": "python",
   "pygments_lexer": "ipython3",
   "version": "3.10.10"
  }
 },
 "nbformat": 4,
 "nbformat_minor": 5
}
