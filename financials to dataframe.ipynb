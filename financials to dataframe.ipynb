{
 "cells": [
  {
   "cell_type": "code",
   "execution_count": 3,
   "id": "210bb2ae",
   "metadata": {},
   "outputs": [],
   "source": [
    "import pandas as pd\n"
   ]
  },
  {
   "cell_type": "code",
   "execution_count": null,
   "id": "2f5362a7",
   "metadata": {},
   "outputs": [],
   "source": [
    "# Load the JSON file\n",
    "df = pd.read_json(\"CIK0001415603.json\")"
   ]
  },
  {
   "cell_type": "code",
   "execution_count": 35,
   "id": "3880e7c9",
   "metadata": {},
   "outputs": [
    {
     "data": {
      "text/html": [
       "<div>\n",
       "<style scoped>\n",
       "    .dataframe tbody tr th:only-of-type {\n",
       "        vertical-align: middle;\n",
       "    }\n",
       "\n",
       "    .dataframe tbody tr th {\n",
       "        vertical-align: top;\n",
       "    }\n",
       "\n",
       "    .dataframe thead th {\n",
       "        text-align: right;\n",
       "    }\n",
       "</style>\n",
       "<table border=\"1\" class=\"dataframe\">\n",
       "  <thead>\n",
       "    <tr style=\"text-align: right;\">\n",
       "      <th></th>\n",
       "      <th>cik</th>\n",
       "      <th>entityName</th>\n",
       "      <th>facts</th>\n",
       "    </tr>\n",
       "  </thead>\n",
       "  <tbody>\n",
       "    <tr>\n",
       "      <th>dei</th>\n",
       "      <td>1415603</td>\n",
       "      <td>NUGEN HOLDINGS, INC.</td>\n",
       "      <td>{'EntityCommonStockSharesOutstanding': {'label...</td>\n",
       "    </tr>\n",
       "    <tr>\n",
       "      <th>us-gaap</th>\n",
       "      <td>1415603</td>\n",
       "      <td>NUGEN HOLDINGS, INC.</td>\n",
       "      <td>{'AccountsPayableAndAccruedLiabilitiesCurrent'...</td>\n",
       "    </tr>\n",
       "  </tbody>\n",
       "</table>\n",
       "</div>"
      ],
      "text/plain": [
       "             cik            entityName   \n",
       "dei      1415603  NUGEN HOLDINGS, INC.  \\\n",
       "us-gaap  1415603  NUGEN HOLDINGS, INC.   \n",
       "\n",
       "                                                     facts  \n",
       "dei      {'EntityCommonStockSharesOutstanding': {'label...  \n",
       "us-gaap  {'AccountsPayableAndAccruedLiabilitiesCurrent'...  "
      ]
     },
     "execution_count": 35,
     "metadata": {},
     "output_type": "execute_result"
    }
   ],
   "source": [
    "# Print the DataFrame\n",
    "df.head()"
   ]
  },
  {
   "cell_type": "code",
   "execution_count": 13,
   "id": "ff14d0e1",
   "metadata": {},
   "outputs": [],
   "source": [
    "# Pull out the company's name and CIK\n",
    "\n",
    "entityName = str(df.iloc[0,0])\n",
    "entityCIK = df.iloc[0,1]"
   ]
  },
  {
   "cell_type": "markdown",
   "id": "8c54fa8d",
   "metadata": {},
   "source": [
    "## DEI Partition"
   ]
  },
  {
   "cell_type": "code",
   "execution_count": 39,
   "id": "4740a588",
   "metadata": {},
   "outputs": [
    {
     "name": "stdout",
     "output_type": "stream",
     "text": [
      "EntityCommonStockSharesOutstanding\n",
      "EntityPublicFloat\n"
     ]
    }
   ],
   "source": [
    "dei = df.iloc[0,2]\n",
    "subGroups = dei.items()\n",
    "\n",
    "for group in subGroups:\n",
    "    groupHeading = group[0]\n",
    "    print(groupHeading)"
   ]
  },
  {
   "cell_type": "markdown",
   "id": "602b0e70",
   "metadata": {},
   "source": [
    "## US-GAAP Partition"
   ]
  },
  {
   "cell_type": "code",
   "execution_count": 61,
   "id": "4b8d46e1",
   "metadata": {},
   "outputs": [
    {
     "name": "stdout",
     "output_type": "stream",
     "text": [
      "CommonStockSharesAuthorized\n",
      "The maximum number of common shares permitted to be issued by an entity's charter and bylaws.\n",
      "CommonStockSharesIssued\n",
      "Total number of common shares of an entity that have been sold or granted to shareholders (includes common shares that were issued, repurchased and remain in the treasury). These shares represent capital invested by the firm's shareholders and owners, and may be all or only a portion of the number of shares authorized. Shares issued include shares outstanding and shares held in the treasury.\n",
      "CommonStockSharesOutstanding\n",
      "Number of shares of common stock outstanding. Common stock represent the ownership interest in a corporation.\n"
     ]
    }
   ],
   "source": [
    "usGaap = df.iloc[1,2]\n",
    "subGroups = usGaap.items()\n",
    "\n",
    "for group in subGroups:\n",
    "    heading = group[0]\n",
    "    headingFull = group[1]['label']\n",
    "    desc = group[1]['description']\n",
    "    units = group[1]['units']\n",
    "    if 'shares' in units.keys():\n",
    "        print(heading)\n",
    "        print(desc)\n",
    "    \n",
    "\n"
   ]
  },
  {
   "cell_type": "code",
   "execution_count": null,
   "id": "dae50010",
   "metadata": {},
   "outputs": [],
   "source": []
  }
 ],
 "metadata": {
  "kernelspec": {
   "display_name": "Python 3 (ipykernel)",
   "language": "python",
   "name": "python3"
  },
  "language_info": {
   "codemirror_mode": {
    "name": "ipython",
    "version": 3
   },
   "file_extension": ".py",
   "mimetype": "text/x-python",
   "name": "python",
   "nbconvert_exporter": "python",
   "pygments_lexer": "ipython3",
   "version": "3.10.10"
  }
 },
 "nbformat": 4,
 "nbformat_minor": 5
}
